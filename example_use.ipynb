{
 "cells": [
  {
   "cell_type": "code",
   "execution_count": 14,
   "metadata": {},
   "outputs": [],
   "source": [
    "import numpy as np\n",
    "\n",
    "from configs.logistic_regression_config import cfg\n",
    "from models.logistic_regression_model import LogReg\n",
    "from models.logistic_regression_model import LogRegWeightsInitType\n",
    "from models.logistic_regression_model import LogRegStoppingCriteria\n",
    "\n",
    "#from models.LogReg import LogReg\n",
    "from ft_datasets.digits_dataset import Digits\n",
    "from ft_datasets.base_dataset_classes import PreprocessType\n",
    "from utils.visualisation import Visualisation\n",
    "from utils import metrics\n"
   ]
  },
  {
   "cell_type": "code",
   "execution_count": 5,
   "metadata": {},
   "outputs": [
    {
     "data": {
      "text/plain": [
       "{'project_name': 'DigitsLogReg',\n",
       " 'train_set_percent': 0.8,\n",
       " 'valid_set_percent': 0.1,\n",
       " 'data_preprocess_type': <DataProcessTypes.standardization: 1>,\n",
       " 'weights_init_type': <WeightsInitType.normal: 1>,\n",
       " 'weights_init_kwargs': {'sigma': 1},\n",
       " 'gamma': 0.01,\n",
       " 'reg_coefficient': 0.01,\n",
       " 'gd_stopping_criteria': <GDStoppingCriteria.epoch: 1>,\n",
       " 'nb_epoch': 12,\n",
       " 'gradient_norm_threshold': 3,\n",
       " 'difference_norm_threshold': 0.02,\n",
       " 'nb_repeats': 20,\n",
       " 'batch_size': 32,\n",
       " 'visualize': True}"
      ]
     },
     "execution_count": 5,
     "metadata": {},
     "output_type": "execute_result"
    }
   ],
   "source": [
    "cfg"
   ]
  },
  {
   "cell_type": "code",
   "execution_count": 8,
   "metadata": {},
   "outputs": [],
   "source": [
    "digits = Digits(cfg)\n",
    "\n",
    "model = LogReg(cfg, digits.k, digits.d,\n",
    "               logging=False,\n",
    "               env_path='../../env.env'\n",
    "               )"
   ]
  },
  {
   "cell_type": "code",
   "execution_count": 9,
   "metadata": {},
   "outputs": [
    {
     "name": "stdout",
     "output_type": "stream",
     "text": [
      "---------------------------- TRAIN ----------------------------\n",
      "gradient_descent_epoch\n",
      "epoch = 0\n",
      "Target function value on train set: 3412.780191290768\n",
      "Confusion matrix on train set:\n",
      "[[ 30.  65.   6.   1.   2.  26.   4.   0.   3.   0.]\n",
      " [  0.   4.  35.  18.  13.  40.   1.   1.  10.  26.]\n",
      " [  0.   0.   4.  76.   4.  38.   4.   2.   2.   8.]\n",
      " [  1.   2.   1.  12.  13.  93.  13.   4.   0.   2.]\n",
      " [  2.   0. 116.   1.   8.   0.   0.  13.   5.   3.]\n",
      " [ 31.  18.  14.  19.   1.   6.  49.   2.   1.   1.]\n",
      " [  1.   3.  95.   0.   2.   1.   3.   1.  37.   2.]\n",
      " [  8.   2.  19.  12.  73.   3.   5.  26.   3.   7.]\n",
      " [  0.   4.   6.  51.   1.  20.   2.  15.   5.  30.]\n",
      " [  9.   0.   3.  13.   0.  43.  35.  34.   2.   7.]]\n",
      "Accuracy on train set: 0.07306889352818371\n",
      "Confusion matrix on validation set:\n",
      "[[ 4.  9.  0.  0.  0.  2.  3.  0.  0.  1.]\n",
      " [ 0.  0.  5.  1.  6.  6.  0.  0.  2.  2.]\n",
      " [ 0.  0.  0. 16.  1.  4.  0.  0.  0.  0.]\n",
      " [ 0.  1.  0.  2.  2.  9.  3.  0.  0.  0.]\n",
      " [ 0.  0. 16.  0.  0.  0.  0.  1.  0.  0.]\n",
      " [ 3.  2.  2.  5.  0.  1.  3.  0.  1.  0.]\n",
      " [ 0.  0. 14.  0.  0.  0.  0.  0.  3.  0.]\n",
      " [ 2.  2.  1.  0.  3.  0.  3.  2.  0.  0.]\n",
      " [ 0.  1.  2.  8.  1.  3.  2.  0.  1.  3.]\n",
      " [ 0.  0.  2.  2.  0.  2.  5.  2.  0.  2.]]\n",
      "Accuracy on validation set: 0.0670391061452514\n",
      "\n",
      "epoch = 1\n",
      "epoch = 2\n",
      "epoch = 3\n",
      "epoch = 4\n",
      "epoch = 5\n",
      "epoch = 6\n",
      "epoch = 7\n",
      "epoch = 8\n",
      "epoch = 9\n",
      "epoch = 10\n",
      "Target function value on train set: 2158.060412313239\n",
      "Confusion matrix on train set:\n",
      "[[136.   0.   0.   0.   1.   0.   0.   0.   0.   0.]\n",
      " [  0. 142.   1.   1.   0.   0.   2.   0.   0.   2.]\n",
      " [  0.   1. 136.   1.   0.   0.   0.   0.   0.   0.]\n",
      " [  0.   0.   1. 135.   0.   1.   0.   1.   2.   1.]\n",
      " [  0.   1.   0.   0. 142.   0.   0.   1.   1.   3.]\n",
      " [  0.   0.   0.   0.   0. 140.   0.   0.   0.   2.]\n",
      " [  1.   0.   0.   0.   0.   0. 144.   0.   0.   0.]\n",
      " [  0.   0.   0.   0.   1.   0.   0. 156.   0.   1.]\n",
      " [  0.   4.   0.   1.   0.   1.   2.   2. 124.   0.]\n",
      " [  0.   3.   1.   1.   0.   1.   0.   0.   1. 139.]]\n",
      "Accuracy on train set: 0.9700765483646486\n",
      "Confusion matrix on validation set:\n",
      "[[19.  0.  0.  0.  0.  0.  0.  0.  0.  0.]\n",
      " [ 0. 21.  0.  0.  0.  0.  0.  0.  0.  1.]\n",
      " [ 0.  2. 18.  1.  0.  0.  0.  0.  0.  0.]\n",
      " [ 0.  0.  1. 15.  0.  0.  0.  0.  1.  0.]\n",
      " [ 0.  0.  0.  0. 16.  0.  0.  1.  0.  0.]\n",
      " [ 0.  0.  0.  0.  0. 16.  0.  0.  0.  1.]\n",
      " [ 0.  0.  0.  0.  0.  0. 17.  0.  0.  0.]\n",
      " [ 0.  0.  0.  0.  1.  0.  0. 12.  0.  0.]\n",
      " [ 0.  3.  0.  0.  0.  0.  0.  0. 17.  1.]\n",
      " [ 0.  0.  1.  0.  0.  0.  0.  1.  1. 12.]]\n",
      "Accuracy on validation set: 0.9106145251396648\n",
      "\n",
      "epoch = 11\n"
     ]
    }
   ],
   "source": [
    "\n",
    "\n",
    "print('---------------------------- TRAIN ----------------------------')\n",
    "model.train(digits.inputs_train, digits.targets_train, digits.inputs_valid, digits.targets_valid)\n",
    "\n",
    "\n"
   ]
  },
  {
   "cell_type": "code",
   "execution_count": 10,
   "metadata": {},
   "outputs": [],
   "source": [
    "model.save(\"./checkpoints/1.pickle\")"
   ]
  },
  {
   "cell_type": "code",
   "execution_count": 11,
   "metadata": {},
   "outputs": [],
   "source": [
    "logreg = LogReg.load(\"./checkpoints/1.pickle\")"
   ]
  },
  {
   "cell_type": "code",
   "execution_count": 15,
   "metadata": {},
   "outputs": [
    {
     "name": "stdout",
     "output_type": "stream",
     "text": [
      "0.9162011173184358\n"
     ]
    }
   ],
   "source": [
    "pred = logreg( digits.inputs_valid)\n",
    "\n",
    "confusion_matrix = metrics.confusion_matrix(pred, digits.targets_valid)\n",
    "accuracy = metrics.accuracy_mat(confusion_matrix)\n",
    "print(accuracy)"
   ]
  },
  {
   "cell_type": "code",
   "execution_count": null,
   "metadata": {},
   "outputs": [],
   "source": []
  }
 ],
 "metadata": {
  "kernelspec": {
   "display_name": "media_pipe_kernel",
   "language": "python",
   "name": "media_pipe_kernel"
  },
  "language_info": {
   "codemirror_mode": {
    "name": "ipython",
    "version": 3
   },
   "file_extension": ".py",
   "mimetype": "text/x-python",
   "name": "python",
   "nbconvert_exporter": "python",
   "pygments_lexer": "ipython3",
   "version": "3.9.18"
  }
 },
 "nbformat": 4,
 "nbformat_minor": 2
}
